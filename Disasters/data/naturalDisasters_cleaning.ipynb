{
 "cells": [
  {
   "cell_type": "code",
   "execution_count": 1,
   "id": "26c891dd",
   "metadata": {},
   "outputs": [],
   "source": [
    "import pandas as pd"
   ]
  },
  {
   "cell_type": "code",
   "execution_count": 2,
   "id": "f2a55b57",
   "metadata": {},
   "outputs": [
    {
     "name": "stderr",
     "output_type": "stream",
     "text": [
      "C:\\Users\\nigel\\AppData\\Local\\Temp\\ipykernel_59296\\3916771221.py:1: DtypeWarning: Columns (24,25) have mixed types. Specify dtype option on import or set low_memory=False.\n",
      "  df= pd.read_csv('Resources/data/1990_2022_natural_disasters.csv')\n"
     ]
    }
   ],
   "source": [
    "df= pd.read_csv('Resources/data/1990_2022_natural_disasters.csv')"
   ]
  },
  {
   "cell_type": "code",
   "execution_count": 3,
   "id": "a13651be",
   "metadata": {},
   "outputs": [],
   "source": [
    "df = df.drop(columns=[\"Glide\", \"Disaster Subsubtype\", \"ISO\", \"Origin\", \"Associated Dis\", \"Associated Dis2\",\"OFDA Response\", \"Appeal\", \"Declaration\", \"Local Time\", \"River Basin\", \"No Injured\", \"No Affected\", \"No Homeless\", \"Adm Level\", \"Admin1 Code\", \"Admin2 Code\"])\n",
    "df.columns=df.columns.str.strip().str.lower()"
   ]
  },
  {
   "cell_type": "code",
   "execution_count": 4,
   "id": "72891956",
   "metadata": {},
   "outputs": [],
   "source": [
    "df2= df.rename(str.strip, axis ='columns')\n",
    "df3= df2.drop(df2[df2['disaster group'] == 'Technological'].index)\n",
    "df4= df3.drop(df3[df3['disaster group'] == 'Complex Disasters'].index)"
   ]
  },
  {
   "cell_type": "code",
   "execution_count": null,
   "id": "02007147",
   "metadata": {},
   "outputs": [],
   "source": [
    "df4.columns=df4.columns.str.replace(' ','_')\n",
    "df4=df4.fillna(0)\n",
    "city_cleanup=df4['location'].str.split(',', expand=True)\n",
    "city_cleanup=city_cleanup[0].fillna(0)\n",
    "df4['location_estimate']=city_cleanup\n",
    "df4=df4.drop(columns=['cpi','geo_locations','latitude', 'longitude'])\n"
   ]
  }
 ],
 "metadata": {
  "kernelspec": {
   "display_name": "Python 3.9.12 ('PythonData')",
   "language": "python",
   "name": "python3"
  },
  "language_info": {
   "codemirror_mode": {
    "name": "ipython",
    "version": 3
   },
   "file_extension": ".py",
   "mimetype": "text/x-python",
   "name": "python",
   "nbconvert_exporter": "python",
   "pygments_lexer": "ipython3",
   "version": "3.9.12"
  },
  "vscode": {
   "interpreter": {
    "hash": "d3879f485939fbb475129764d6cc9e4000306f4ca47879b3a88945406023be0f"
   }
  }
 },
 "nbformat": 4,
 "nbformat_minor": 5
}
